{
 "cells": [
  {
   "cell_type": "code",
   "execution_count": 1,
   "metadata": {},
   "outputs": [],
   "source": [
    "# Run this cell but don't modify it.\n",
    "\n",
    "%load_ext autoreload\n",
    "%autoreload 2\n",
    "from matrix import Matrix, zeroes, identity"
   ]
  },
  {
   "cell_type": "code",
   "execution_count": 2,
   "metadata": {},
   "outputs": [
    {
     "name": "stdout",
     "output_type": "stream",
     "text": [
      "m1 is\n",
      "1  2 \n",
      "3  4 \n",
      "\n",
      "m2 is\n",
      "2  5 \n",
      "6  1 \n",
      "\n",
      "we've also provided you with a function called zeros\n",
      "here's what happens when you call zeros(4,2)\n",
      "0.0  0.0 \n",
      "0.0  0.0 \n",
      "0.0  0.0 \n",
      "0.0  0.0 \n",
      "\n",
      "we've also provided you with a function called identity\n",
      "here's identity(3)\n",
      "1.0  0.0  0.0 \n",
      "0.0  1.0  0.0 \n",
      "0.0  0.0  1.0 \n",
      "\n",
      "but not everything works yet!\n",
      "for example, matrix addition...\n",
      "run the cell below to see what happens when we try...\n"
     ]
    }
   ],
   "source": [
    "# some functionality already exists... here's a demo\n",
    "\n",
    "m1 = Matrix([\n",
    "    [1, 2],\n",
    "    [3, 4]\n",
    "])\n",
    "\n",
    "m2 = Matrix([\n",
    "    [2, 5],\n",
    "    [6, 1]\n",
    "])\n",
    "\n",
    "print(\"m1 is\")\n",
    "print(m1)\n",
    "\n",
    "print(\"m2 is\")\n",
    "print(m2)\n",
    "\n",
    "print(\"we've also provided you with a function called zeros\")\n",
    "print(\"here's what happens when you call zeros(4,2)\")\n",
    "print(zeroes(4,2))\n",
    "\n",
    "print(\"we've also provided you with a function called identity\")\n",
    "print(\"here's identity(3)\")\n",
    "print(identity(3))\n",
    "\n",
    "print(\"but not everything works yet!\")\n",
    "print(\"for example, matrix addition...\")\n",
    "print(\"run the cell below to see what happens when we try...\")"
   ]
  },
  {
   "cell_type": "code",
   "execution_count": 6,
   "metadata": {},
   "outputs": [
    {
     "name": "stdout",
     "output_type": "stream",
     "text": [
      "m1 + m2 is\n",
      "3  7 \n",
      "9  5 \n",
      "\n"
     ]
    }
   ],
   "source": [
    "m1 = Matrix([\n",
    "    [1, 2],\n",
    "    [3, 4]\n",
    "])\n",
    "\n",
    "m2 = Matrix([\n",
    "    [2, 5],\n",
    "    [6, 1]\n",
    "])\n",
    "\n",
    "m3 = m1+m2\n",
    "print(\"m1 + m2 is\")\n",
    "print(m3)"
   ]
  },
  {
   "cell_type": "code",
   "execution_count": 4,
   "metadata": {},
   "outputs": [
    {
     "name": "stdout",
     "output_type": "stream",
     "text": [
      "Congratulations! All tests pass. Your Matrix class is working as expected.\n"
     ]
    }
   ],
   "source": [
    "# Try running this code. You should get an assertion error. \n",
    "# You will continue to get assertion errors until all the \n",
    "# methods in matrix.py are correctly implemented.\n",
    "\n",
    "# You can open matrix.py by selecting File > Open... \n",
    "# and then selecting matrix.py\n",
    "\n",
    "import test"
   ]
  },
  {
   "cell_type": "code",
   "execution_count": 5,
   "metadata": {},
   "outputs": [],
   "source": [
    "# open matrix.py (File > Open...) and start\n",
    "# implementing matrix methods! \n",
    "\n",
    "# when your code passes all the tests you can submit by \n",
    "# pressing the SUBMIT button in the lower right corner \n",
    "# of this page."
   ]
  },
  {
   "cell_type": "code",
   "execution_count": 9,
   "metadata": {},
   "outputs": [
    {
     "name": "stdout",
     "output_type": "stream",
     "text": [
      "The determinant of this matrix is:\n",
      "1  2 \n",
      "3  4 \n",
      "\n",
      "is  -2\n"
     ]
    }
   ],
   "source": [
    "#determinant() works correctly.\n",
    "\n",
    "m_determinant = m1.determinant()\n",
    "print('The determinant of this matrix is:')\n",
    "print(m1)\n",
    "print('is ',m_determinant)"
   ]
  },
  {
   "cell_type": "code",
   "execution_count": 10,
   "metadata": {},
   "outputs": [
    {
     "name": "stdout",
     "output_type": "stream",
     "text": [
      "The Trace of this matrix is:\n",
      "1  2 \n",
      "3  4 \n",
      "\n",
      "is  5\n"
     ]
    }
   ],
   "source": [
    "#trace() works correctly.\n",
    "\n",
    "m_trace = m1.trace()\n",
    "print('The Trace of this matrix is:')\n",
    "print(m1)\n",
    "print('is ',m_trace)"
   ]
  },
  {
   "cell_type": "code",
   "execution_count": 16,
   "metadata": {},
   "outputs": [
    {
     "name": "stdout",
     "output_type": "stream",
     "text": [
      "The Inverse of this matrix is:\n",
      "1  2 \n",
      "3  4 \n",
      "\n",
      "is:\n",
      "-2.0  1.0 \n",
      "1.5  -0.5 \n",
      "\n"
     ]
    }
   ],
   "source": [
    "#inverse() works correctly.\n",
    "\n",
    "m_inverse = m1.inverse()\n",
    "print('The Inverse of this matrix is:')\n",
    "print(m1)\n",
    "print('is:')\n",
    "print(m_inverse)"
   ]
  },
  {
   "cell_type": "code",
   "execution_count": 17,
   "metadata": {},
   "outputs": [
    {
     "name": "stdout",
     "output_type": "stream",
     "text": [
      "The Transpose of this matrix is:\n",
      "1  2 \n",
      "3  4 \n",
      "\n",
      "is:\n",
      "1  3 \n",
      "2  4 \n",
      "\n"
     ]
    }
   ],
   "source": [
    "#T() works correctly.\n",
    "\n",
    "m_t = m1.T()\n",
    "print('The Transpose of this matrix is:')\n",
    "print(m1)\n",
    "print('is:')\n",
    "print(m_t)"
   ]
  },
  {
   "cell_type": "code",
   "execution_count": 18,
   "metadata": {},
   "outputs": [
    {
     "name": "stdout",
     "output_type": "stream",
     "text": [
      "Matrix m1 is:\n",
      "1  2 \n",
      "3  4 \n",
      "\n",
      "Matrix m2 is:\n",
      "2  5 \n",
      "6  1 \n",
      "\n",
      "m1 + m2 =\n",
      "3  7 \n",
      "9  5 \n",
      "\n"
     ]
    }
   ],
   "source": [
    "#add() works correctly\n",
    "\n",
    "m_add = m1 + m2\n",
    "print('Matrix m1 is:')\n",
    "print(m1)\n",
    "print('Matrix m2 is:')\n",
    "print(m2)\n",
    "print('m1 + m2 =')\n",
    "print(m_add)"
   ]
  },
  {
   "cell_type": "code",
   "execution_count": 23,
   "metadata": {},
   "outputs": [
    {
     "name": "stdout",
     "output_type": "stream",
     "text": [
      "Matrix m2 is:\n",
      "2  5 \n",
      "6  1 \n",
      "\n",
      "-m2 =\n",
      "-2  -5 \n",
      "-6  -1 \n",
      "\n"
     ]
    }
   ],
   "source": [
    "#neg() works correctly\n",
    "\n",
    "m_neg = -m2\n",
    "print('Matrix m2 is:')\n",
    "print(m2)\n",
    "print('-m2 =')\n",
    "print(m_neg)"
   ]
  },
  {
   "cell_type": "code",
   "execution_count": 24,
   "metadata": {},
   "outputs": [
    {
     "name": "stdout",
     "output_type": "stream",
     "text": [
      "Matrix m1 is:\n",
      "1  2 \n",
      "3  4 \n",
      "\n",
      "Matrix m2 is:\n",
      "2  5 \n",
      "6  1 \n",
      "\n",
      "m1 - m2 =\n",
      "-1  -3 \n",
      "-3  3 \n",
      "\n"
     ]
    }
   ],
   "source": [
    "#sub() works correctly\n",
    "\n",
    "m_sub = m1 - m2\n",
    "print('Matrix m1 is:')\n",
    "print(m1)\n",
    "print('Matrix m2 is:')\n",
    "print(m2)\n",
    "print('m1 - m2 =')\n",
    "print(m_sub)"
   ]
  },
  {
   "cell_type": "code",
   "execution_count": 25,
   "metadata": {},
   "outputs": [
    {
     "name": "stdout",
     "output_type": "stream",
     "text": [
      "Matrix m1 is:\n",
      "1  2 \n",
      "3  4 \n",
      "\n",
      "Matrix m2 is:\n",
      "2  5 \n",
      "6  1 \n",
      "\n",
      "m1 * m2 =\n",
      "14.0  7.0 \n",
      "30.0  19.0 \n",
      "\n"
     ]
    }
   ],
   "source": [
    "#mul() works correctly\n",
    "\n",
    "m_mul = m1 * m2\n",
    "print('Matrix m1 is:')\n",
    "print(m1)\n",
    "print('Matrix m2 is:')\n",
    "print(m2)\n",
    "print('m1 * m2 =')\n",
    "print(m_mul)"
   ]
  },
  {
   "cell_type": "code",
   "execution_count": 30,
   "metadata": {},
   "outputs": [
    {
     "name": "stdout",
     "output_type": "stream",
     "text": [
      "a is:  3 \n",
      "\n",
      "Matrix m1 is:\n",
      "1  2 \n",
      "3  4 \n",
      "\n",
      "a * m1 =\n",
      "3  6 \n",
      "9  12 \n",
      "\n"
     ]
    }
   ],
   "source": [
    "#rmul() works correctly\n",
    "\n",
    "a = 3\n",
    "m_rmul = 3 * m1\n",
    "print('a is: ',a,'\\n')\n",
    "print('Matrix m1 is:')\n",
    "print(m1)\n",
    "print('a * m1 =')\n",
    "print(m_rmul)"
   ]
  }
 ],
 "metadata": {
  "kernelspec": {
   "display_name": "Python 3",
   "language": "python",
   "name": "python3"
  },
  "language_info": {
   "codemirror_mode": {
    "name": "ipython",
    "version": 3
   },
   "file_extension": ".py",
   "mimetype": "text/x-python",
   "name": "python",
   "nbconvert_exporter": "python",
   "pygments_lexer": "ipython3",
   "version": "3.6.3"
  }
 },
 "nbformat": 4,
 "nbformat_minor": 2
}
